{
 "cells": [
  {
   "cell_type": "code",
   "execution_count": 1,
   "metadata": {},
   "outputs": [],
   "source": [
    "import nltk\n",
    "import pandas as pd # data processing, CSV file I/O (e.g. pd.read_csv)\n",
    "import nltk\n",
    "from nltk.tag import brill, brill_trainer \n",
    "from nltk.tag import BrillTaggerTrainer, RegexpTagger\n",
    "from nltk.tag.perceptron import PerceptronTagger\n",
    "from nltk.tbl.template import Template\n",
    "from nltk.tag.brill import Pos, Word\n",
    "from nltk.corpus import brown\n",
    "from nltk.tag import CRFTagger"
   ]
  },
  {
   "cell_type": "markdown",
   "metadata": {},
   "source": [
    "http://www.nltk.org/api/nltk.tag.html"
   ]
  },
  {
   "cell_type": "code",
   "execution_count": 2,
   "metadata": {},
   "outputs": [],
   "source": [
    "def export_to_csv(pos_tagged_text, filename):\n",
    "    string_pos_text = [ nltk.tag.tuple2str(tup) for tup in pos_tagged_text]\n",
    "    one_line = ' '.join(string_pos_text)\n",
    "    wfp = open(filename, 'w')\n",
    "    wfp.write(one_line)\n",
    "    wfp.close()\n",
    "    print(\"Exported Data to: {}\".format(filename))"
   ]
  },
  {
   "cell_type": "code",
   "execution_count": 3,
   "metadata": {},
   "outputs": [],
   "source": [
    "# Load data\n",
    "filename = 'data/feedback_cs2012_1.txt'\n",
    "with open(filename, 'r')as fp:\n",
    "    all_content = fp.read()\n",
    "text = nltk.word_tokenize(all_content)"
   ]
  },
  {
   "cell_type": "code",
   "execution_count": 4,
   "metadata": {},
   "outputs": [
    {
     "name": "stdout",
     "output_type": "stream",
     "text": [
      "Exported Data to: data/default_tagger.csv\n"
     ]
    }
   ],
   "source": [
    "# Default Tagger\n",
    "pos_tagged_text = nltk.pos_tag(text)\n",
    "export_to_csv(pos_tagged_text, 'data/default_tagger.csv')"
   ]
  },
  {
   "cell_type": "code",
   "execution_count": 5,
   "metadata": {},
   "outputs": [],
   "source": [
    "# Prepare Test Data \n",
    "test_data = []\n",
    "test_data.append(pos_tagged_text)"
   ]
  },
  {
   "cell_type": "code",
   "execution_count": 6,
   "metadata": {},
   "outputs": [],
   "source": [
    "# Prepare Train data\n",
    "train_data = brown.tagged_sents(categories='news')[:1000]"
   ]
  },
  {
   "cell_type": "code",
   "execution_count": 7,
   "metadata": {},
   "outputs": [
    {
     "name": "stdout",
     "output_type": "stream",
     "text": [
      "Exported Data to: data/perception_tagger.csv\n",
      "Perception Tagger Accuracy: 0.5556510528577567\n"
     ]
    }
   ],
   "source": [
    "#PerceptronTagger\n",
    "tagger2 = PerceptronTagger(load=False)\n",
    "tagger2.train(train_data)\n",
    "perceptron_tagged_data = tagger2.tag(text)\n",
    "accuracy = tagger2.evaluate(test_data)\n",
    "export_to_csv(tagger2.tag(text), 'data/perception_tagger.csv')\n",
    "print(\"Perception Tagger Accuracy: {}\".format(accuracy))"
   ]
  },
  {
   "cell_type": "code",
   "execution_count": 8,
   "metadata": {},
   "outputs": [
    {
     "name": "stdout",
     "output_type": "stream",
     "text": [
      "Exported Data to: data/regrex_tagger.csv\n",
      "Regrex Tagger Accuracy: 0.5556510528577567\n"
     ]
    }
   ],
   "source": [
    "# http://www.nltk.org/api/nltk.tag.html?highlight=hmm#module-nltk.tag.brill_trainer\n",
    "#RegexpTagger\n",
    "baseline = RegexpTagger([(r'^-?[0-9]+(.[0-9]+)?$', 'CD'),   # cardinal numbers\n",
    "(r'(The|the|A|a|An|an)$', 'AT'),   # articles\n",
    "(r'.*able$', 'JJ'),                # adjectives\n",
    "(r'.*ness$', 'NN'),                # nouns formed from adjectives\n",
    "(r'.*ly$', 'RB'),                  # adverbs\n",
    "(r'.*s$', 'NNS'),                  # plural nouns\n",
    "(r'.*ing$', 'VBG'),                # gerunds\n",
    "(r'.*ed$', 'VBD'),                 # past tense verbs\n",
    "(r'.*', 'NN')                      # nouns (default)\n",
    "])\n",
    "\n",
    "regex_tagged_data = baseline.tag(text)\n",
    "baseline.evaluate(test_data) \n",
    "\n",
    "export_to_csv(regex_tagged_data, 'data/regrex_tagger.csv')\n",
    "print(\"Regrex Tagger Accuracy: {}\".format(accuracy))"
   ]
  },
  {
   "cell_type": "code",
   "execution_count": 9,
   "metadata": {},
   "outputs": [
    {
     "name": "stdout",
     "output_type": "stream",
     "text": [
      "TBL train (fast) (seqs: 1000; tokens: 22079; tpls: 2; min score: 2; min acc: None)\n",
      "Finding initial useful rules...\n",
      "    Found 4286 useful rules.\n",
      "\n",
      "           B      |\n",
      "   S   F   r   O  |        Score = Fixed - Broken\n",
      "   c   i   o   t  |  R     Fixed = num tags changed incorrect -> correct\n",
      "   o   x   k   h  |  u     Broken = num tags changed correct -> incorrect\n",
      "   r   e   e   e  |  l     Other = num tags changed incorrect -> incorrect\n",
      "   e   d   n   r  |  e\n",
      "------------------+-------------------------------------------------------\n",
      " 613 613   0   0  | NN->. if Pos:NN@[-1] & Word:.@[0]\n",
      " 605 605   0  20  | NN->, if Pos:NN@[-1] & Word:,@[0]\n",
      " 501 501   0  35  | NN->IN if Pos:NN@[-1] & Word:of@[0]\n",
      " 256 256   0   2  | NN->IN if Pos:NN@[-1] & Word:in@[0]\n",
      " 221 221   0  10  | NN->CC if Pos:NN@[-1] & Word:and@[0]\n",
      " 189 189   0 123  | NN->TO if Pos:NN@[-1] & Word:to@[0]\n",
      " 173 173   0   0  | NN->. if Pos:NNS@[-1] & Word:.@[0]\n",
      " 172 404 2321115  | NN->IN if Pos:NNS@[-1]\n",
      " 167 206  39 345  | NN->IN if Pos:VBD@[-1]\n",
      " 164 164   0   2  | IN->, if Pos:NNS@[-1] & Word:,@[0]\n",
      "Exported Data to: data/brill_tagger.csv\n",
      "Brill Tagger Accuracy: 0.35969058874086807\n"
     ]
    }
   ],
   "source": [
    "# http://www.nltk.org/api/nltk.tag.html?highlight=hmm#module-nltk.tag.brill_trainer\n",
    "#BrillTaggerTrainer\n",
    "templates = [Template(Pos([-1])), Template(Pos([-1]), Word([0]))]\n",
    "tt = BrillTaggerTrainer(baseline, templates, trace=3)\n",
    "tagger1 = tt.train(train_data, max_rules=10)\n",
    "brill_tagged_data = tagger1.tag(text)\n",
    "accuracy = tagger1.evaluate(test_data) \n",
    "\n",
    "export_to_csv(tagger1.tag(text), 'data/brill_tagger.csv')\n",
    "print(\"Brill Tagger Accuracy: {}\".format(accuracy))"
   ]
  },
  {
   "cell_type": "code",
   "execution_count": 10,
   "metadata": {},
   "outputs": [
    {
     "name": "stdout",
     "output_type": "stream",
     "text": [
      "Exported Data to: data/crf_tagger.csv\n",
      "CRF Tagger Accuracy: 0.5612376450365277\n"
     ]
    }
   ],
   "source": [
    "# http://www.nltk.org/api/nltk.tag.html?highlight=hmm#module-nltk.tag.crf\n",
    "# CRF Tagger\n",
    "ct = CRFTagger()\n",
    "ct.train(train_data,'model.crf.tagger')\n",
    "accuracy = ct.evaluate(test_data)\n",
    "\n",
    "export_to_csv(ct.tag_sents([text])[0], 'data/crf_tagger.csv')\n",
    "print(\"CRF Tagger Accuracy: {}\".format(accuracy))"
   ]
  },
  {
   "cell_type": "code",
   "execution_count": null,
   "metadata": {},
   "outputs": [],
   "source": []
  },
  {
   "cell_type": "code",
   "execution_count": null,
   "metadata": {},
   "outputs": [],
   "source": []
  }
 ],
 "metadata": {
  "kernelspec": {
   "display_name": "Python 3",
   "language": "python",
   "name": "python3"
  },
  "language_info": {
   "codemirror_mode": {
    "name": "ipython",
    "version": 3
   },
   "file_extension": ".py",
   "mimetype": "text/x-python",
   "name": "python",
   "nbconvert_exporter": "python",
   "pygments_lexer": "ipython3",
   "version": "3.7.6"
  }
 },
 "nbformat": 4,
 "nbformat_minor": 4
}
